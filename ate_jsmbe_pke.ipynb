{
 "cells": [
  {
   "cell_type": "code",
   "execution_count": 2,
   "id": "6fa7c12e-1c53-46de-9a5d-15334b830d45",
   "metadata": {},
   "outputs": [],
   "source": [
    "\"\"\"ATE: Automatic Term Extraction\n",
    "\"\"\"\n",
    "\n",
    "import pandas as pd\n",
    "\n",
    "import ginza # pip install -U ginza ja_ginza\n",
    "import nltk  # pip install nltk\n",
    "import spacy # pip install nltk\n",
    "import pke   # pip install git+https://github.com/boudinfl/pke.git"
   ]
  },
  {
   "cell_type": "code",
   "execution_count": 6,
   "id": "e0d5f3c7-a584-4284-9388-4c408a554f49",
   "metadata": {},
   "outputs": [],
   "source": [
    "file_path = \"datasets/生体医工学会論文5755件.csv\"\n",
    "df = pd.read_csv(file_path,encoding='utf-8')"
   ]
  },
  {
   "cell_type": "code",
   "execution_count": 7,
   "id": "99193f62-6eca-42d9-adcd-37a6863fd3e8",
   "metadata": {},
   "outputs": [
    {
     "data": {
      "text/html": [
       "<div>\n",
       "<style scoped>\n",
       "    .dataframe tbody tr th:only-of-type {\n",
       "        vertical-align: middle;\n",
       "    }\n",
       "\n",
       "    .dataframe tbody tr th {\n",
       "        vertical-align: top;\n",
       "    }\n",
       "\n",
       "    .dataframe thead th {\n",
       "        text-align: right;\n",
       "    }\n",
       "</style>\n",
       "<table border=\"1\" class=\"dataframe\">\n",
       "  <thead>\n",
       "    <tr style=\"text-align: right;\">\n",
       "      <th></th>\n",
       "      <th>Title</th>\n",
       "      <th>Vol</th>\n",
       "      <th>No</th>\n",
       "    </tr>\n",
       "  </thead>\n",
       "  <tbody>\n",
       "    <tr>\n",
       "      <th>223</th>\n",
       "      <td>適応ファジィ推論ニューラルネットワークを用いた視覚障害者用学習型位置情報提供システム</td>\n",
       "      <td>46</td>\n",
       "      <td>1</td>\n",
       "    </tr>\n",
       "    <tr>\n",
       "      <th>224</th>\n",
       "      <td>記述言語を用いた細胞生理学実験シミュレーション手法</td>\n",
       "      <td>46</td>\n",
       "      <td>1</td>\n",
       "    </tr>\n",
       "    <tr>\n",
       "      <th>225</th>\n",
       "      <td>混合脂質膜の透過光スペクトル特性とその自己相関関数に基づく味識別</td>\n",
       "      <td>46</td>\n",
       "      <td>1</td>\n",
       "    </tr>\n",
       "    <tr>\n",
       "      <th>226</th>\n",
       "      <td>筋芽細胞の分化と細胞膜電位の変化</td>\n",
       "      <td>46</td>\n",
       "      <td>1</td>\n",
       "    </tr>\n",
       "    <tr>\n",
       "      <th>227</th>\n",
       "      <td>生体歩行計測に基づく足首駆動歩行シミュレーション</td>\n",
       "      <td>46</td>\n",
       "      <td>1</td>\n",
       "    </tr>\n",
       "  </tbody>\n",
       "</table>\n",
       "</div>"
      ],
      "text/plain": [
       "                                          Title Vol No\n",
       "223  適応ファジィ推論ニューラルネットワークを用いた視覚障害者用学習型位置情報提供システム  46  1\n",
       "224                   記述言語を用いた細胞生理学実験シミュレーション手法  46  1\n",
       "225            混合脂質膜の透過光スペクトル特性とその自己相関関数に基づく味識別  46  1\n",
       "226                            筋芽細胞の分化と細胞膜電位の変化  46  1\n",
       "227                    生体歩行計測に基づく足首駆動歩行シミュレーション  46  1"
      ]
     },
     "execution_count": 7,
     "metadata": {},
     "output_type": "execute_result"
    }
   ],
   "source": [
    "df[df['Published_Year']==2008][['Title','Vol', 'No']].head()"
   ]
  },
  {
   "cell_type": "code",
   "execution_count": 8,
   "id": "421cf642-9371-4671-9bc9-daec897655e0",
   "metadata": {},
   "outputs": [
    {
     "data": {
      "text/plain": [
       "array([2005, 2006, 2007, 2008, 2009, 2010, 2011, 2012, 2013, 2014, 2015,\n",
       "       2016, 2017, 2018, 2019, 2020, 2021, 2022, 2023])"
      ]
     },
     "execution_count": 8,
     "metadata": {},
     "output_type": "execute_result"
    }
   ],
   "source": [
    "years = df[\"Published_Year\"].unique()\n",
    "years"
   ]
  },
  {
   "cell_type": "code",
   "execution_count": 9,
   "id": "f56cbfb6-6327-4811-b48d-6ce577ec5124",
   "metadata": {},
   "outputs": [
    {
     "name": "stdout",
     "output_type": "stream",
     "text": [
      "生体医工学ウェブ辞典（第一分冊）\n",
      "市販・試作ウエアラブルデバイスのフィールド適用事例の紹介と課題抽出\n",
      "飲料摂取をともなうデスクワーク中の生理反応から見た遠隔生体計測の課題\n",
      "ウエアラブルデバイスによる心拍と呼吸データの比較事例\n",
      "日常・産業場面におけるウエアラブルデバイス利活用のための問題意識\n",
      "NIRSを用いた認知介入による認知機能の改善効果研究の最前線\n",
      "近赤外分光法を用いた脳機能計測アプリケーションの展開\n",
      "近赤外分光計測を用いたハイパースキャンデータの解析\n",
      "機能性近赤外分光装置のためのソフトウェア開発の現状と将来展望\n",
      "拡散相関分光法による組織血流イメージング：原理と応用\n"
     ]
    }
   ],
   "source": [
    "docs = {}\n",
    "for y in years:\n",
    "    docs[y] = df[(df['Published_Year']==y)]['Title'].values.tolist()\n",
    "    \n",
    "titles = docs[2022]\n",
    "print(\"\\n\".join(titles[:10]))"
   ]
  },
  {
   "cell_type": "code",
   "execution_count": 10,
   "id": "cf754a8b-b7ff-4fab-8ea1-f9e0ed212c8c",
   "metadata": {},
   "outputs": [],
   "source": [
    "def get_key_phrase(spacy_model, text, n = 5, stopwords=None):\n",
    "    \"\"\"キーフレーズ処理\n",
    "\n",
    "    Args:\n",
    "        text ([type]): キーフレーズ対象の文字列\n",
    "        n (int, optional): [description]. Defaults to 10.\n",
    "    Returns:\n",
    "        [type]: [description]\n",
    "    \"\"\"\n",
    "    #MultipartiteRankなどのキーフレーズの手法については以下のサイトが参考になります\n",
    "    #https://www.ogis-ri.co.jp/otc/hiroba/technical/similar-document-search/part5.html\n",
    "    extractor = pke.unsupervised.MultipartiteRank()\n",
    "    extractor.load_document(input=text, language='ja', normalization=None, stoplist=stopwords)\n",
    "    extractor.candidate_selection( pos={'NOUN', 'PROPN', 'ADJ', 'NUM'})\n",
    "    extractor.candidate_weighting(threshold=0.10, method='average', alpha=1.1)\n",
    "    key_phrase = extractor.get_n_best(n)\n",
    "    \n",
    "    return  key_phrase"
   ]
  },
  {
   "cell_type": "code",
   "execution_count": 22,
   "id": "f70ef032-6d1e-42ec-bc17-b9008e594812",
   "metadata": {},
   "outputs": [
    {
     "name": "stdout",
     "output_type": "stream",
     "text": [
      "['ば', 'つけ', 'おら', 'ほか', 'から', 'ら', 'および', 'あり', 'に', 'にて', 'とき', 'きっかけ', 'ん', 'いわ', 'すぐ', 'ため', 'でき', 'ね', 'せい', 'いい', 'まま', 'つい', 'の', 'だ', 'なく', 'つつ', 'つ', 'ちゃん', 'はじめ', 'かつて', 'え', 'らしい', 'ま', 'す', 'どう', 'られる', 'あ', 'そして', 'それ', 'なお', 'うち', 'そこ', 'ただし', 'もの', 'さ', 'それぞれ', 'しまう', 'やっ', 'い', 'しか', 'る', 'くる', 'そう', 'ご', 'まで', 'たち', 'と', 'いう', 'た', 'ながら', 'よく', 'すべて', 'へ', 'ほど', 'な', 'なり', 'ず', 'か', 'たり', 'かつ', 'ほとんど', 'しよう', 'こと', 'ます', 'は', 'もと', 'ぶり', 'できる', 'し', 'なっ', 'よれ', 'のみ', '一', 'ぬ', 'ところ', 'が', 'あるいは', 'で', 'いる', 'のち', 'ある', 'こ', 'よっ', 'あまり', 'とっ', 'です', 'など', 'ない', 'たら', 'もっ', 'かけ', 'よ', 'あっ', 'おけ', 'ここ', 'する', 'さん', 'べき', 'れる', 'いっ', 'せる', 'くん', 'き', 'しまっ', 'さらに', 'かなり', 'より', 'また', 'ごと', 'おい', 'だけ', 'これ', 'いずれ', 'だっ', 'れ', 'ほぼ', 'いく', 'おり', 'なし', 'なかっ', 'よう', 'なけれ', 'よる', 'せ', 'こう', 'いつ', 'み', 'を', 'ひと', 'たい', 'この', 'られ', 'しかし', 'なる', 'あれ', 'や', 'ち', 'もう', 'て', 'も', 'その', 'お', 'なら', 'とも', '検討', '研究', '開発', '展望', '事例', '課題', '試作', '提案']\n"
     ]
    }
   ],
   "source": [
    "from spacy.lang.ja import stop_words\n",
    "pke.lang.stopwords['ja_ginza'] = 'ja'\n",
    "spacy_model = spacy.load(\"ja_ginza\")  # GiNZAモデルの読み込み\n",
    "stopwords = list(stop_words.STOP_WORDS)\n",
    "stopwords.extend(['検討','研究','開発','展望','事例','課題','試作','提案']) \n",
    "print(stopwords)\n",
    "nltk.corpus.stopwords.words = stopwords"
   ]
  },
  {
   "cell_type": "code",
   "execution_count": 23,
   "id": "0f96578e-e693-4673-9865-01761a3aa18f",
   "metadata": {},
   "outputs": [
    {
     "name": "stdout",
     "output_type": "stream",
     "text": [
      "生体医工学ウェブ辞典（第一分冊）。\n",
      "市販・試作ウエアラブルデバイスのフィールド適用事例の紹介と課題抽出。\n",
      "飲料摂取をともなうデスクワーク中の生理反応から見た遠隔生体計測の課題。\n",
      "ウエアラブルデバイスによる心拍と呼吸データの比較事例。\n",
      "日常・産業場面におけるウエアラブルデバイス利活用のための問題意識。\n",
      "NIRSを用いた認知介入による認知機能の改善効果研究の最前線。\n",
      "近赤外分光法を用いた脳機能計測アプリケーションの展開。\n",
      "近赤外分光計測を用いたハイパースキャンデータの解析。\n",
      "機能性近赤外分光装置のためのソフトウェア開発の現状と将来展望。\n",
      "拡散相関分光法による組織血流イメージング：原理と応用\n"
     ]
    },
    {
     "data": {
      "text/plain": [
       "[('ウエアラブル デバイス 利活用', 0.12535370369887078),\n",
       " ('認知 介入', 0.12195927604415156),\n",
       " ('認知 機能', 0.11989406339398705),\n",
       " ('問題 意識', 0.11432452298690556),\n",
       " ('産業 場面', 0.10740202803665067),\n",
       " ('遠隔 生体 計測', 0.08765361070320592),\n",
       " ('呼吸 データ', 0.08211644637787247),\n",
       " ('最前線', 0.08169748487306891),\n",
       " ('生理 反応', 0.07847261021733803),\n",
       " ('ハイパー スキャン データ', 0.046598353249644384),\n",
       " ('組織 血流 イメージング', 0.034527900418305)]"
      ]
     },
     "execution_count": 23,
     "metadata": {},
     "output_type": "execute_result"
    }
   ],
   "source": [
    "text = \"。\\n\".join(docs[2022][:10])\n",
    "print(text)\n",
    "get_key_phrase(spacy_model, text, n=150, stopwords=stopwords)"
   ]
  },
  {
   "cell_type": "code",
   "execution_count": 24,
   "id": "e25a54f0-259b-4ec1-9041-0e6d13732690",
   "metadata": {},
   "outputs": [
    {
     "data": {
      "text/plain": [
       "[('妥当性', 0.00781554420833879),\n",
       " ('人工知能', 0.006919144170376882),\n",
       " ('取り組み', 0.006180078205723661),\n",
       " ('システム', 0.005981315810498641),\n",
       " ('アプローチ', 0.005463716780686997),\n",
       " ('デバイス', 0.005330774967191458),\n",
       " ('プロデューサー', 0.005308708291478731),\n",
       " ('有効性', 0.00524162378397937),\n",
       " ('教育 環境 改善', 0.005215344437731576),\n",
       " ('インターフェイス 操作 能力', 0.005157516951021665),\n",
       " ('ヒト 身体', 0.005034908921173622),\n",
       " ('心理的', 0.0050292153119129305),\n",
       " ('心拍 変動 特性', 0.004994746253105341),\n",
       " ('ノイズ', 0.0049562614443356455),\n",
       " ('集中 学習', 0.004945986246439209),\n",
       " ('血管 形成 術中', 0.004934196628964714),\n",
       " ('機能的 mri データ', 0.00485179876267092),\n",
       " ('特徴 抽出', 0.004839049136903719),\n",
       " ('血液 浄化 療法', 0.004831333110405897),\n",
       " ('homing', 0.0047548087710929535),\n",
       " ('塑性 変形 モニター', 0.004664806672317486),\n",
       " ('構造的', 0.0046090812021004355),\n",
       " ('シャント 雑音 分析', 0.0045791578024663784),\n",
       " ('vpg', 0.004570416388276),\n",
       " ('メディカル', 0.004562964958293424),\n",
       " ('全脳 モデリング', 0.004558260351997574),\n",
       " ('versajet', 0.00455771815832728),\n",
       " ('超音波 プローブ', 0.004546079149387671),\n",
       " ('マルチ 剛体 リンク モデル', 0.004541666871575485),\n",
       " ('モーション キャプチャ データ', 0.00452113596646261),\n",
       " ('育成 研修 プログラム', 0.0045155531970381),\n",
       " ('開口 合成', 0.004503567260983682),\n",
       " ('hydrosurgery system', 0.004498492629517168),\n",
       " ('動作 補助 機器', 0.004491308650304163),\n",
       " ('ウェアラブル 姿勢', 0.004486880325906345),\n",
       " ('生理的', 0.004474789593213112),\n",
       " ('体内 環境', 0.004472088225844681),\n",
       " ('平均 寿命', 0.004470491880936753),\n",
       " ('一括 電気 回転', 0.004457244480379134),\n",
       " ('ステロイド 性骨 壊死', 0.004439826437575701),\n",
       " ('知的 作業', 0.004409816664071136),\n",
       " ('社会 指標', 0.004397709525100373),\n",
       " ('呼吸 位相 計測', 0.004392875045510329),\n",
       " ('hmd', 0.004378096228299974),\n",
       " ('映像 脈波', 0.004347214214744907),\n",
       " ('制御 可能', 0.004344930241332776),\n",
       " ('傷害 部位', 0.0043245002339145485),\n",
       " ('個人差 メカニズム', 0.004322832625577451),\n",
       " ('マシン', 0.004316019434090473),\n",
       " ('リアルタイム モニタリング', 0.004300670907901266)]"
      ]
     },
     "execution_count": 24,
     "metadata": {},
     "output_type": "execute_result"
    }
   ],
   "source": [
    "text = \"。\\n\".join(docs[2019][:200])\n",
    "get_key_phrase(spacy_model, text, n=50, stopwords=stopwords)"
   ]
  },
  {
   "cell_type": "code",
   "execution_count": null,
   "id": "648f5656-4479-4ff3-b476-76894199d60f",
   "metadata": {},
   "outputs": [],
   "source": []
  }
 ],
 "metadata": {
  "kernelspec": {
   "display_name": "Python 3 (ipykernel)",
   "language": "python",
   "name": "python3"
  },
  "language_info": {
   "codemirror_mode": {
    "name": "ipython",
    "version": 3
   },
   "file_extension": ".py",
   "mimetype": "text/x-python",
   "name": "python",
   "nbconvert_exporter": "python",
   "pygments_lexer": "ipython3",
   "version": "3.9.7"
  }
 },
 "nbformat": 4,
 "nbformat_minor": 5
}

{
 "cells": [
  {
   "cell_type": "code",
   "execution_count": 2,
   "id": "f493173e-0068-4734-9b3d-3aab7a93196d",
   "metadata": {},
   "outputs": [],
   "source": [
    "\"\"\"pip install Levenshtein\n",
    "cf. https://rapidfuzz.github.io/Levenshtein/\n",
    "- distance, calculates the minimum number of insertions, deletions, and substitutions \n",
    "  @params: s1, s2, weights, processor, score_cutoff, score_hint \n",
    "- ratio, calculates a normalized indel similarity in the range [0, 1]. \n",
    "  @params: s1, s2, processor, score_cutoff\n",
    "  The indel distance calculates the minimum number of insertions and deletions \n",
    "- seqratio \n",
    "- setratio\n",
    "\"\"\"\n",
    "import Levenshtein\n"
   ]
  },
  {
   "cell_type": "code",
   "execution_count": 32,
   "id": "7def5cd7-6ada-47d0-b60f-e3bfe122a3b8",
   "metadata": {},
   "outputs": [
    {
     "name": "stdout",
     "output_type": "stream",
     "text": [
      "0.727\n",
      "0.727\n",
      "0.727\n"
     ]
    }
   ],
   "source": [
    "str1 = 'おにぎり'\n",
    "str2 = 'こんぶおにぎり'\n",
    "str3 = 'うめおにぎり'\n",
    "ratio = Levenshtein.ratio(str1, str2)\n",
    "print(f\"{ratio:.3f}\") # \n",
    "ratio = Levenshtein.seqratio(str1, str2)\n",
    "print(f\"{ratio:.3f}\") # \n",
    "ratio = Levenshtein.setratio(str1, str2)\n",
    "print(f\"{ratio:.3f}\") # \n"
   ]
  },
  {
   "cell_type": "code",
   "execution_count": 14,
   "id": "c46294f1-c5f5-45e1-a338-fd49026a6572",
   "metadata": {},
   "outputs": [
    {
     "data": {
      "text/plain": [
       "0.6"
      ]
     },
     "execution_count": 14,
     "metadata": {},
     "output_type": "execute_result"
    }
   ],
   "source": [
    "def jaccard(a, b):\n",
    "    u = set(a).union(set(b))\n",
    "    n = set(a).intersection(set(b))\n",
    "    return len(n)/len(u)"
   ]
  },
  {
   "cell_type": "code",
   "execution_count": 24,
   "id": "f974ae35-e180-420d-ac55-e21681af9060",
   "metadata": {},
   "outputs": [
    {
     "name": "stdout",
     "output_type": "stream",
     "text": [
      "0.500, 0.250 ,0.333\n"
     ]
    }
   ],
   "source": [
    "a=[\"統計\"]\n",
    "b=[\"医学\",\"統計\"]\n",
    "c=[\"数理\",\"統計\",\"学\"]\n",
    "print(f\"{jaccard(a,b):.3f}, {jaccard(b,c):.3f} ,{jaccard(a,c):.3f}\")"
   ]
  },
  {
   "cell_type": "code",
   "execution_count": 23,
   "id": "297777ea-ad8c-4319-ac3a-eb1fdea058ff",
   "metadata": {},
   "outputs": [
    {
     "data": {
      "text/plain": [
       "0.6"
      ]
     },
     "execution_count": 23,
     "metadata": {},
     "output_type": "execute_result"
    }
   ],
   "source": [
    "jaccard(\"人口知能\",\"人工知能\")"
   ]
  },
  {
   "cell_type": "code",
   "execution_count": 33,
   "id": "31944afe-53f0-4522-9313-18834b78c917",
   "metadata": {},
   "outputs": [
    {
     "name": "stdout",
     "output_type": "stream",
     "text": [
      "0.667\n",
      "0.667\n",
      "0.667\n"
     ]
    }
   ],
   "source": [
    "ratio = Levenshtein.ratio(a, b)\n",
    "print(f\"{ratio:.3f}\") # \n",
    "ratio = Levenshtein.seqratio(a, b)\n",
    "print(f\"{ratio:.3f}\") # \n",
    "ratio = Levenshtein.setratio(a, b)\n",
    "print(f\"{ratio:.3f}\") # "
   ]
  },
  {
   "cell_type": "code",
   "execution_count": 35,
   "id": "421749cb-3cfd-4557-9fab-0edd14a70ee9",
   "metadata": {},
   "outputs": [
    {
     "name": "stdout",
     "output_type": "stream",
     "text": [
      "0.600\n",
      "0.600\n",
      "0.333\n"
     ]
    }
   ],
   "source": [
    "ratio = Levenshtein.ratio(b, c)\n",
    "print(f\"{1-ratio:.3f}\") # \n",
    "ratio = Levenshtein.seqratio(b, c)\n",
    "print(f\"{1-ratio:.3f}\") # \n",
    "ratio = Levenshtein.setratio(b, c)\n",
    "print(f\"{1-ratio:.3f}\") # "
   ]
  },
  {
   "cell_type": "code",
   "execution_count": 36,
   "id": "0932bc78-9af1-41e3-8cb3-0d42e34c238e",
   "metadata": {},
   "outputs": [],
   "source": [
    "# pip install pylcs\n",
    "# https://pypi.org/project/pylcs/\n",
    "import pylcs"
   ]
  },
  {
   "cell_type": "code",
   "execution_count": 38,
   "id": "362849ef-9de4-4634-b100-8c3968a9b234",
   "metadata": {},
   "outputs": [
    {
     "data": {
      "text/plain": [
       "14"
      ]
     },
     "execution_count": 38,
     "metadata": {},
     "output_type": "execute_result"
    }
   ],
   "source": [
    "#  finding the longest common subsSEQUENCE length of string A and string B\n",
    "A = 'We are shannonai'\n",
    "B = 'We like shannonai'\n",
    "pylcs.lcs_sequence_length(A, B)"
   ]
  },
  {
   "cell_type": "code",
   "execution_count": 39,
   "id": "96d20c17-9671-4237-95a8-3e263db5c310",
   "metadata": {},
   "outputs": [
    {
     "data": {
      "text/plain": [
       "'We e shannonai'"
      ]
     },
     "execution_count": 39,
     "metadata": {},
     "output_type": "execute_result"
    }
   ],
   "source": [
    "#  finding alignment from string A to B\n",
    "A = 'We are shannonai'\n",
    "B = 'We like shannonai'\n",
    "res = pylcs.lcs_sequence_idx(A, B)\n",
    "''.join([B[i] for i in res if i != -1])\n"
   ]
  },
  {
   "cell_type": "code",
   "execution_count": 40,
   "id": "d2008e5b-45e6-422f-b3fa-cd14785452d8",
   "metadata": {},
   "outputs": [
    {
     "data": {
      "text/plain": [
       "11"
      ]
     },
     "execution_count": 40,
     "metadata": {},
     "output_type": "execute_result"
    }
   ],
   "source": [
    "# finding the longest common subSRING length of string A and string B\n",
    "A = 'We are shannonai'\n",
    "B = 'We like shannonai'\n",
    "pylcs.lcs_string_length(A, B)"
   ]
  },
  {
   "cell_type": "code",
   "execution_count": 42,
   "id": "3333f869-b210-4f69-8380-c629a04f7a8a",
   "metadata": {},
   "outputs": [
    {
     "data": {
      "text/plain": [
       "'e shannonai'"
      ]
     },
     "execution_count": 42,
     "metadata": {},
     "output_type": "execute_result"
    }
   ],
   "source": [
    "res = pylcs.lcs_string_idx(A, B)\n",
    "''.join([B[i] for i in res if i != -1])"
   ]
  },
  {
   "cell_type": "code",
   "execution_count": 45,
   "id": "1fc31a78-e281-499a-b08f-8c002e7f2241",
   "metadata": {},
   "outputs": [
    {
     "data": {
      "text/plain": [
       "2"
      ]
     },
     "execution_count": 45,
     "metadata": {},
     "output_type": "execute_result"
    }
   ],
   "source": [
    "pylcs.lcs_sequence_length(\"\".join(a), \"\".join(b))"
   ]
  },
  {
   "cell_type": "code",
   "execution_count": 46,
   "id": "5223645f-d05b-45e2-86ae-28bb5d0601cb",
   "metadata": {},
   "outputs": [
    {
     "data": {
      "text/plain": [
       "2"
      ]
     },
     "execution_count": 46,
     "metadata": {},
     "output_type": "execute_result"
    }
   ],
   "source": [
    "pylcs.lcs_sequence_length(\"\".join(b), \"\".join(c))"
   ]
  },
  {
   "cell_type": "code",
   "execution_count": 47,
   "id": "bca889a4-c56d-4792-8a4e-b029fc428b71",
   "metadata": {},
   "outputs": [
    {
     "data": {
      "text/plain": [
       "3"
      ]
     },
     "execution_count": 47,
     "metadata": {},
     "output_type": "execute_result"
    }
   ],
   "source": [
    "pylcs.lcs_sequence_length(\"人口知能\",\"人工知能\")"
   ]
  },
  {
   "cell_type": "code",
   "execution_count": null,
   "id": "123f0c51-58c0-47d6-94df-586021369f2b",
   "metadata": {},
   "outputs": [],
   "source": []
  }
 ],
 "metadata": {
  "kernelspec": {
   "display_name": "Python 3 (ipykernel)",
   "language": "python",
   "name": "python3"
  },
  "language_info": {
   "codemirror_mode": {
    "name": "ipython",
    "version": 3
   },
   "file_extension": ".py",
   "mimetype": "text/x-python",
   "name": "python",
   "nbconvert_exporter": "python",
   "pygments_lexer": "ipython3",
   "version": "3.9.7"
  }
 },
 "nbformat": 4,
 "nbformat_minor": 5
}

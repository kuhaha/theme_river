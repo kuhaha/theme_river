{
 "cells": [
  {
   "cell_type": "code",
   "execution_count": 1,
   "id": "6fa7c12e-1c53-46de-9a5d-15334b830d45",
   "metadata": {},
   "outputs": [],
   "source": [
    "\"\"\"ATE: Automatic Term Extraction\n",
    "\"\"\"\n",
    "import re\n",
    "import os\n",
    "import collections\n",
    "import pandas as pd\n",
    "from pprint import pprint\n",
    "\n",
    "from termextract import LRValue\n",
    "from termextract.preprocessing import extract_nouns, morphemes_to_surface, MeCabTokenizer\n"
   ]
  },
  {
   "cell_type": "code",
   "execution_count": 2,
   "id": "e0d5f3c7-a584-4284-9388-4c408a554f49",
   "metadata": {},
   "outputs": [],
   "source": [
    "file_path = \"datasets/生体医工学会論文5755件.csv\"\n",
    "df = pd.read_csv(file_path,encoding='utf-8')"
   ]
  },
  {
   "cell_type": "code",
   "execution_count": 3,
   "id": "99193f62-6eca-42d9-adcd-37a6863fd3e8",
   "metadata": {},
   "outputs": [
    {
     "data": {
      "text/html": [
       "<div>\n",
       "<style scoped>\n",
       "    .dataframe tbody tr th:only-of-type {\n",
       "        vertical-align: middle;\n",
       "    }\n",
       "\n",
       "    .dataframe tbody tr th {\n",
       "        vertical-align: top;\n",
       "    }\n",
       "\n",
       "    .dataframe thead th {\n",
       "        text-align: right;\n",
       "    }\n",
       "</style>\n",
       "<table border=\"1\" class=\"dataframe\">\n",
       "  <thead>\n",
       "    <tr style=\"text-align: right;\">\n",
       "      <th></th>\n",
       "      <th>Title</th>\n",
       "      <th>Vol</th>\n",
       "      <th>No</th>\n",
       "    </tr>\n",
       "  </thead>\n",
       "  <tbody>\n",
       "    <tr>\n",
       "      <th>223</th>\n",
       "      <td>適応ファジィ推論ニューラルネットワークを用いた視覚障害者用学習型位置情報提供システム</td>\n",
       "      <td>46</td>\n",
       "      <td>1</td>\n",
       "    </tr>\n",
       "    <tr>\n",
       "      <th>224</th>\n",
       "      <td>記述言語を用いた細胞生理学実験シミュレーション手法</td>\n",
       "      <td>46</td>\n",
       "      <td>1</td>\n",
       "    </tr>\n",
       "    <tr>\n",
       "      <th>225</th>\n",
       "      <td>混合脂質膜の透過光スペクトル特性とその自己相関関数に基づく味識別</td>\n",
       "      <td>46</td>\n",
       "      <td>1</td>\n",
       "    </tr>\n",
       "    <tr>\n",
       "      <th>226</th>\n",
       "      <td>筋芽細胞の分化と細胞膜電位の変化</td>\n",
       "      <td>46</td>\n",
       "      <td>1</td>\n",
       "    </tr>\n",
       "    <tr>\n",
       "      <th>227</th>\n",
       "      <td>生体歩行計測に基づく足首駆動歩行シミュレーション</td>\n",
       "      <td>46</td>\n",
       "      <td>1</td>\n",
       "    </tr>\n",
       "  </tbody>\n",
       "</table>\n",
       "</div>"
      ],
      "text/plain": [
       "                                          Title Vol No\n",
       "223  適応ファジィ推論ニューラルネットワークを用いた視覚障害者用学習型位置情報提供システム  46  1\n",
       "224                   記述言語を用いた細胞生理学実験シミュレーション手法  46  1\n",
       "225            混合脂質膜の透過光スペクトル特性とその自己相関関数に基づく味識別  46  1\n",
       "226                            筋芽細胞の分化と細胞膜電位の変化  46  1\n",
       "227                    生体歩行計測に基づく足首駆動歩行シミュレーション  46  1"
      ]
     },
     "execution_count": 3,
     "metadata": {},
     "output_type": "execute_result"
    }
   ],
   "source": [
    "df[df['Published_Year']==2008][['Title','Vol', 'No']].head()"
   ]
  },
  {
   "cell_type": "code",
   "execution_count": 4,
   "id": "421cf642-9371-4671-9bc9-daec897655e0",
   "metadata": {},
   "outputs": [
    {
     "data": {
      "text/plain": [
       "array([2005, 2006, 2007, 2008, 2009, 2010, 2011, 2012, 2013, 2014, 2015,\n",
       "       2016, 2017, 2018, 2019, 2020, 2021, 2022, 2023])"
      ]
     },
     "execution_count": 4,
     "metadata": {},
     "output_type": "execute_result"
    }
   ],
   "source": [
    "years = df[\"Published_Year\"].unique()\n",
    "years"
   ]
  },
  {
   "cell_type": "code",
   "execution_count": 5,
   "id": "d3d46828-25cb-409c-b21e-8a6110f0335e",
   "metadata": {},
   "outputs": [],
   "source": [
    "docs = {}\n",
    "for y in years:\n",
    "    docs[y] = df[(df['Published_Year']==y)]['Title'].values.tolist()"
   ]
  },
  {
   "cell_type": "code",
   "execution_count": 7,
   "id": "cf754a8b-b7ff-4fab-8ea1-f9e0ed212c8c",
   "metadata": {},
   "outputs": [
    {
     "name": "stdout",
     "output_type": "stream",
     "text": [
      "リレー随筆他\n",
      "指尖容積脈波解析を用いた情動ストレス刺激時における自律神経機能評価\n",
      "血管系の数理モデルによる動脈抵抗の評価: 動物実験による検証\n",
      "呼気と吸気のCT画像を用いた肺呼吸機能の解析とSPECT画像の対比検討\n",
      "生体アドミタンス計測による運動耐容能の評価法の検討\n",
      "心房細動におけるComplex Fractionated Atrial Electrogramsの自動判定に関する研究\n",
      "空間透明型電気触覚ディスプレイの開発と道具操作支援への応用\n",
      "嫌気性代謝閾値を指標としたインターバルトレーニングにおけるプロトコルの検討\n",
      "複数の機械学習手法を用いた退院時サマリからの自動DPCコーディング\n",
      "変形性股関節症と腰部脊柱管狭窄における歩行動作の比較\n",
      "腫瘍識別器のLeave-One-Outによる性能評価結果の信頼性に関する考察\n",
      "リレー随筆他\n",
      "Sternberg課題遂行中の認知症患者と健常者の脳波トポグラフィを用いた早期診断法に関する研究\n",
      "フィールドトライアルにおいてユビキタスヘルスケアシステムの有効性を実証\n",
      "フェーズフィールド法を用いた肺微細構造のモデリング\n"
     ]
    }
   ],
   "source": [
    "from collections import defaultdict\n",
    "\n",
    "def intersection(lst1, lst2):\n",
    "    return list(set(lst1) & set(lst2))\n",
    "    \n",
    "tok = MeCabTokenizer() \n",
    "use_dic = tok.use_dic\n",
    "\n",
    "year = 2011\n",
    "print(\"\\n\".join(docs[year][:15]))\n",
    "\n",
    "compound_nouns = []\n",
    "docfreq = {}\n",
    "ignores = ['研究','開発','検討','試作','提案','紹介','展望','事例','課題',\"および\", \"評価\"]\n",
    "for sentence in docs[year]+docs[year+1]:\n",
    "    tokens = tok.iter_token(sentence)\n",
    "    nouns = extract_nouns(tokens, stopwords=ignores, n=2)\n",
    "    # print(nouns)\n",
    "    if len(nouns) > 0 :\n",
    "        compound_nouns.extend(nouns)\n",
    "\n",
    "lr = LRValue()\n",
    "# lr_values = lr.fit_transform(compound_nouns)\n",
    "lr_values = lr.fit(compound_nouns).transform(compound_nouns, mode=2)\n",
    "lr_values = [(k,v) for k,v in lr_values.items() if v>0]\n",
    "data_collection = sorted(lr_values, key=lambda x:x[1], reverse=True)"
   ]
  },
  {
   "cell_type": "code",
   "execution_count": 9,
   "id": "1b68e749-fea7-4ed6-a75f-729879cfdde8",
   "metadata": {},
   "outputs": [
    {
     "data": {
      "text/plain": [
       "[('生体 医 工学', 12.470018703326758),\n",
       " ('生体 画像 計測', 11.026292598077617),\n",
       " ('生体 医 工学 シンポジウム', 9.650039212959216),\n",
       " ('手術 支援', 9.211558703193814),\n",
       " ('生体 医 工 学会', 8.908217324102665),\n",
       " ('運動 時', 8.38786244506617),\n",
       " ('計測 部位', 8.107200928842206),\n",
       " ('手術 支援 システム', 7.98495548835162),\n",
       " ('生体 アドミタンス 計測', 7.693444598093319),\n",
       " ('生体 医 工学 シンポジウム 2012', 7.3356463770689215),\n",
       " ('計測 光', 7.325683002969413),\n",
       " ('生体 医 工学 Vol', 7.236508525629245),\n",
       " ('循環 型', 7.211102550927978),\n",
       " ('電気 刺激', 6.928203230275509),\n",
       " ('日本 生体 医 工 学会', 6.880939951066802),\n",
       " ('生体 モデル', 6.779122448540388),\n",
       " ('外科 手術 支援', 6.648938109479184),\n",
       " ('医 工学 融合', 6.541242231404896),\n",
       " ('生体 医 工 学会 50周年', 6.420143987128991),\n",
       " ('リアルタイム 計測 システム', 6.406201895057689),\n",
       " ('非接触 的 計測', 6.281671209900078),\n",
       " ('機能 的 電気 刺激 システム', 6.167449766237803),\n",
       " ('同時 計測', 6.160140576482046),\n",
       " ('生体 内 制御 支援', 6.0213374567683235),\n",
       " ('3次元 分布 計測 システム', 5.864805241383315),\n",
       " ('医用 画像', 5.84852654546204),\n",
       " ('生体 医 工学 シンポジウム 2012 論文', 5.767116981509003),\n",
       " ('動作 支援', 5.732656753226201),\n",
       " ('手術 支援 ロボット システム', 5.64887381534319),\n",
       " ('生体 医 工学 シンポジウム 2011 論文', 5.575508589808915),\n",
       " ('脳波 計測', 5.566315367427481),\n",
       " ('非接触 計測', 5.566315367427481),\n",
       " ('非接触 自動 計測 システム', 5.493487263331958),\n",
       " ('生体 情報', 5.421612021659069),\n",
       " ('運動 適応', 5.334838230116769),\n",
       " ('液体呼吸 用 システム', 5.136241625249835),\n",
       " ('日本 ME 学会', 5.126120837370822),\n",
       " ('経 頭蓋 磁気 刺激 用', 5.099701639971882),\n",
       " ('光 電 脈 波', 5.094295472627462),\n",
       " ('超音波 画像', 4.997998798878767),\n",
       " ('容積 脈 波 解析', 4.954163999648204),\n",
       " ('運動 定義 形状 知覚', 4.884477644847146),\n",
       " ('電気 的 アドミタンス 法', 4.82738076413613),\n",
       " ('協調 運動', 4.82057051366791),\n",
       " ('生体磁気 計測', 4.680694638641432),\n",
       " ('歪 計測', 4.680694638641432),\n",
       " ('侵襲 高 精度 診断 治療 用 手術 支援 システム', 4.584242769367384),\n",
       " ('腰部 支援 用 HAL', 4.549713867155892),\n",
       " ('3次元 MRI 画像', 4.510794681437518),\n",
       " ('運動 定義 形状 知覚 活動 部位', 4.505571611790775),\n",
       " ('MR 画像', 4.443919177722689),\n",
       " ('三次元 生体 適応 形状 解析', 4.3892821146795225),\n",
       " ('自動 測定', 4.355877174692862),\n",
       " ('細胞 外 電気 刺激', 4.270369592393406),\n",
       " ('睡眠 時', 4.262147595354359),\n",
       " ('人工心肺装置 用 ポンプ チューブ 内 表面', 4.246907765577656),\n",
       " ('舌 運動 推定 法', 4.221167313317658),\n",
       " ('内視鏡手術 支援 用 微小 腫瘍 マーキング システム', 4.217862526365478),\n",
       " ('筋 電信 号 計測 法', 4.203014844083667),\n",
       " ('型 電気 触覚 ディスプレイ', 4.202799273419526),\n",
       " ('情動 ストレス 刺激 時', 4.190234260609695),\n",
       " ('脳外科 治療 支援 技術', 4.165938747883179),\n",
       " ('植込み 型 除細動器 用 致死性不整脈 検出 アルゴリズム', 4.160372227710405),\n",
       " ('光 電 脈 波 計', 4.105626426055338),\n",
       " ('内視鏡 外科 用 鉗子 操作', 4.093742458982239),\n",
       " ('弾性 波 画像 上', 4.092082603278626),\n",
       " ('適応 型 フィルタ', 4.072631144731451),\n",
       " ('生活習慣病 工学', 4.0),\n",
       " ('整形外科 コンピュータ 手術 支援 技術', 3.9954849474840763),\n",
       " ('安全運転 支援', 3.9359793425308607),\n",
       " ('自動 識別', 3.9359793425308607),\n",
       " ('歩行 中', 3.833658625477635),\n",
       " ('軟性 内視鏡 用', 3.8102508714318954),\n",
       " ('日本 エム・イー 学会', 3.7797631496846193),\n",
       " ('道具 操作 支援', 3.7719455481170785),\n",
       " ('リレー 随筆', 3.7416573867739413),\n",
       " ('体 部位 別 重量 測定 システム', 3.7340689963069007),\n",
       " ('在宅 型 反復 経 頭蓋 磁気 刺激 治療', 3.7164771591030474),\n",
       " ('日本 ME 学会 初期', 3.7150988954195063),\n",
       " ('光 電 容積 脈 波 式 血 中 アルコール 濃度 計測 装置', 3.7063233253467627)]"
      ]
     },
     "execution_count": 9,
     "metadata": {},
     "output_type": "execute_result"
    }
   ],
   "source": [
    "list(data_collection)[:80]"
   ]
  },
  {
   "cell_type": "code",
   "execution_count": null,
   "id": "c8d49ab6-8836-4a98-bf21-6eeb81c9b1ae",
   "metadata": {},
   "outputs": [],
   "source": [
    "list(lr.compound_stat().items())[:10]"
   ]
  },
  {
   "cell_type": "code",
   "execution_count": null,
   "id": "99d9a4f1-c8a5-4161-bc0d-6b56a450c27d",
   "metadata": {},
   "outputs": [],
   "source": []
  }
 ],
 "metadata": {
  "kernelspec": {
   "display_name": "Python 3 (ipykernel)",
   "language": "python",
   "name": "python3"
  },
  "language_info": {
   "codemirror_mode": {
    "name": "ipython",
    "version": 3
   },
   "file_extension": ".py",
   "mimetype": "text/x-python",
   "name": "python",
   "nbconvert_exporter": "python",
   "pygments_lexer": "ipython3",
   "version": "3.9.7"
  }
 },
 "nbformat": 4,
 "nbformat_minor": 5
}

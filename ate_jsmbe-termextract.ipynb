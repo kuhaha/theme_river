{
 "cells": [
  {
   "cell_type": "code",
   "execution_count": 1,
   "id": "6fa7c12e-1c53-46de-9a5d-15334b830d45",
   "metadata": {},
   "outputs": [],
   "source": [
    "\"\"\"ATE: Automatic Term Extraction\n",
    "\"\"\"\n",
    "import re\n",
    "import os\n",
    "import collections\n",
    "import pandas as pd\n",
    "from pprint import pprint\n",
    "\n",
    "from termextract import LRValue\n",
    "from termextract.preprocessing import extract_nouns, morphemes_to_surface, MeCabTokenizer\n"
   ]
  },
  {
   "cell_type": "code",
   "execution_count": 2,
   "id": "e0d5f3c7-a584-4284-9388-4c408a554f49",
   "metadata": {},
   "outputs": [],
   "source": [
    "file_path = \"datasets/生体医工学会論文5755件.csv\"\n",
    "df = pd.read_csv(file_path,encoding='utf-8')"
   ]
  },
  {
   "cell_type": "code",
   "execution_count": 3,
   "id": "99193f62-6eca-42d9-adcd-37a6863fd3e8",
   "metadata": {},
   "outputs": [
    {
     "data": {
      "text/html": [
       "<div>\n",
       "<style scoped>\n",
       "    .dataframe tbody tr th:only-of-type {\n",
       "        vertical-align: middle;\n",
       "    }\n",
       "\n",
       "    .dataframe tbody tr th {\n",
       "        vertical-align: top;\n",
       "    }\n",
       "\n",
       "    .dataframe thead th {\n",
       "        text-align: right;\n",
       "    }\n",
       "</style>\n",
       "<table border=\"1\" class=\"dataframe\">\n",
       "  <thead>\n",
       "    <tr style=\"text-align: right;\">\n",
       "      <th></th>\n",
       "      <th>Title</th>\n",
       "      <th>Vol</th>\n",
       "      <th>No</th>\n",
       "    </tr>\n",
       "  </thead>\n",
       "  <tbody>\n",
       "    <tr>\n",
       "      <th>223</th>\n",
       "      <td>適応ファジィ推論ニューラルネットワークを用いた視覚障害者用学習型位置情報提供システム</td>\n",
       "      <td>46</td>\n",
       "      <td>1</td>\n",
       "    </tr>\n",
       "    <tr>\n",
       "      <th>224</th>\n",
       "      <td>記述言語を用いた細胞生理学実験シミュレーション手法</td>\n",
       "      <td>46</td>\n",
       "      <td>1</td>\n",
       "    </tr>\n",
       "    <tr>\n",
       "      <th>225</th>\n",
       "      <td>混合脂質膜の透過光スペクトル特性とその自己相関関数に基づく味識別</td>\n",
       "      <td>46</td>\n",
       "      <td>1</td>\n",
       "    </tr>\n",
       "    <tr>\n",
       "      <th>226</th>\n",
       "      <td>筋芽細胞の分化と細胞膜電位の変化</td>\n",
       "      <td>46</td>\n",
       "      <td>1</td>\n",
       "    </tr>\n",
       "    <tr>\n",
       "      <th>227</th>\n",
       "      <td>生体歩行計測に基づく足首駆動歩行シミュレーション</td>\n",
       "      <td>46</td>\n",
       "      <td>1</td>\n",
       "    </tr>\n",
       "  </tbody>\n",
       "</table>\n",
       "</div>"
      ],
      "text/plain": [
       "                                          Title Vol No\n",
       "223  適応ファジィ推論ニューラルネットワークを用いた視覚障害者用学習型位置情報提供システム  46  1\n",
       "224                   記述言語を用いた細胞生理学実験シミュレーション手法  46  1\n",
       "225            混合脂質膜の透過光スペクトル特性とその自己相関関数に基づく味識別  46  1\n",
       "226                            筋芽細胞の分化と細胞膜電位の変化  46  1\n",
       "227                    生体歩行計測に基づく足首駆動歩行シミュレーション  46  1"
      ]
     },
     "execution_count": 3,
     "metadata": {},
     "output_type": "execute_result"
    }
   ],
   "source": [
    "df[df['Published_Year']==2008][['Title','Vol', 'No']].head()"
   ]
  },
  {
   "cell_type": "code",
   "execution_count": 4,
   "id": "421cf642-9371-4671-9bc9-daec897655e0",
   "metadata": {},
   "outputs": [
    {
     "data": {
      "text/plain": [
       "array([2005, 2006, 2007, 2008, 2009, 2010, 2011, 2012, 2013, 2014, 2015,\n",
       "       2016, 2017, 2018, 2019, 2020, 2021, 2022, 2023])"
      ]
     },
     "execution_count": 4,
     "metadata": {},
     "output_type": "execute_result"
    }
   ],
   "source": [
    "years = df[\"Published_Year\"].unique()\n",
    "years"
   ]
  },
  {
   "cell_type": "code",
   "execution_count": 5,
   "id": "d3d46828-25cb-409c-b21e-8a6110f0335e",
   "metadata": {},
   "outputs": [],
   "source": [
    "docs = {}\n",
    "for y in years:\n",
    "    docs[y] = df[(df['Published_Year']==y)]['Title'].values.tolist()"
   ]
  },
  {
   "cell_type": "code",
   "execution_count": 19,
   "id": "cf754a8b-b7ff-4fab-8ea1-f9e0ed212c8c",
   "metadata": {},
   "outputs": [
    {
     "name": "stdout",
     "output_type": "stream",
     "text": [
      "生体医工学ウェブ辞典（第二分冊）\n",
      "医療機関等への建築ガイドライン浸透のための課題と今後の展望\n",
      "メーカーから見た医用テレメータ設置・運用に関する現状と確認事項\n",
      "医用テレメータの概要と医療現場での現状と希望\n",
      "医療機関における電波利用機器に配慮した建築ガイドライン・同解説－医用テレメータ編－のポイント\n",
      "生体医工学×医療者教育―効率的な知識・技術発展のためにー\n",
      "生体医工学×知のデザイン －臨床研究における学際の必要性－\n",
      "生体医工学×医工連携～自身の開発経験談～\n",
      "生体医工学×医療機器管理のエビデンス創設を目指して\n",
      "スマートコントラクトを用いたトラストデータ流通システム\n",
      "聴診音解析システムを活用した医療DXへの挑戦\n",
      "看護理工学的思考によるリアルワールドデータの活用\n",
      "皮膚感覚メカニズム解明のためのセンシング・ディスプレイ技術\n",
      "神経オルガノイドを用いた特殊培養デバイスによる疼痛評価システム\n",
      "次世代網膜刺激型人工視覚デバイスの開発\n"
     ]
    }
   ],
   "source": [
    "from collections import defaultdict\n",
    "\n",
    "def intersection(lst1, lst2):\n",
    "    return list(set(lst1) & set(lst2))\n",
    "    \n",
    "tok = MeCabTokenizer() \n",
    "use_dic = tok.use_dic\n",
    "\n",
    "year = 2023\n",
    "print(\"\\n\".join(docs[year][:15]))\n",
    "\n",
    "compound_nouns = []\n",
    "docfreq = {}\n",
    "ignores = ['研究','開発','検討','試作','提案','紹介','展望','事例','課題']\n",
    "for sentence in docs[year]:\n",
    "    tokens = tok.iter_token(sentence)\n",
    "    nouns = extract_nouns(tokens, stopwords=ignores, n=2)\n",
    "    # print(nouns)\n",
    "    if len(nouns) > 0 :\n",
    "        compound_nouns.extend(nouns)\n",
    "\n",
    "lr = LRValue()\n",
    "lr_values = lr.fit_transform(compound_nouns)\n",
    "lr_values = [(k,v) for k,v in lr_values.items() if v>0]\n",
    "data_collection = sorted(lr_values, key=lambda x:x[1], reverse=True)"
   ]
  },
  {
   "cell_type": "code",
   "execution_count": 20,
   "id": "1b68e749-fea7-4ed6-a75f-729879cfdde8",
   "metadata": {},
   "outputs": [
    {
     "data": {
      "text/plain": [
       "[('乳房 MRI 画像', 16.552849867091567),\n",
       " ('刺激 画像', 16.474112694453908),\n",
       " ('侵襲 レーザー 皮膚 治療', 16.315893360731785),\n",
       " ('計測 解析', 16.186178248771544),\n",
       " ('血管内皮 細胞', 15.751599205719526),\n",
       " ('光 計測', 15.004664490468443),\n",
       " ('支援 システム', 14.982413540254958),\n",
       " ('生体 内 機能 評価', 14.79955033479168),\n",
       " ('推定 法', 14.660895354719873),\n",
       " ('侵襲 肺コンプライアンス 計測 法', 14.464373225885682),\n",
       " ('手術 支援 システム', 14.233176803048947),\n",
       " ('手術 支援', 14.208401614436143),\n",
       " ('細胞 システム', 14.031236411563858),\n",
       " ('CT 画像', 13.526840288246285),\n",
       " ('血管 検出 法', 13.522856648126485),\n",
       " ('画像 脈 波', 13.514795324330045),\n",
       " ('および 評価', 13.094437062921891),\n",
       " ('筋 活動', 13.091763910376187),\n",
       " ('筋 電 計測', 12.904973472680162),\n",
       " ('定量 化', 12.872393771853929),\n",
       " ('手 指', 12.844170857568436),\n",
       " ('細胞 機能', 12.838740166897853),\n",
       " ('血圧 自動 計測', 12.594838982460912),\n",
       " ('細胞 解析', 12.536440342258926),\n",
       " ('および 筋 線維', 12.530410324049738),\n",
       " ('3次元 心房 モデル 上', 12.402553055828637),\n",
       " ('自動 検出', 12.38395397687857),\n",
       " ('電気 的 特性', 12.285401797072755),\n",
       " ('パーキンソン病 患者', 12.0),\n",
       " ('感情 評価', 11.915784271057897),\n",
       " ('生体 情報 計測', 11.875783994839868),\n",
       " ('血圧 計測', 11.741784511602685),\n",
       " ('防災 医 工学', 11.711613984289881),\n",
       " ('ラット 真皮 中 コラーゲン 密度', 11.695633984109858),\n",
       " ('血管 平滑筋 細胞', 11.641963881053863),\n",
       " ('三脚 型 穿刺 ロボット', 11.633368396599412),\n",
       " ('呼吸 パターン 変化', 11.567849658337849),\n",
       " ('再建 乳房 術中 支援', 11.488736518652074),\n",
       " ('CT 像 上 肺 病変 強調', 11.478596870713975),\n",
       " ('医 工学 的 制御 技術', 11.253830103049383)]"
      ]
     },
     "execution_count": 20,
     "metadata": {},
     "output_type": "execute_result"
    }
   ],
   "source": [
    "list(data_collection)[20:60]"
   ]
  },
  {
   "cell_type": "code",
   "execution_count": 21,
   "id": "c8d49ab6-8836-4a98-bf21-6eeb81c9b1ae",
   "metadata": {},
   "outputs": [
    {
     "data": {
      "text/plain": [
       "[('生体 医 工学 ウェブ 辞典', 1),\n",
       " ('医療機関 等', 1),\n",
       " ('建築 ガイドライン 浸透', 1),\n",
       " ('医用 テレメータ 設置', 1),\n",
       " ('確認 事項', 1),\n",
       " ('医用 テレメータ', 1),\n",
       " ('医療 現場', 1),\n",
       " ('電波 利用 機器', 1),\n",
       " ('建築 ガイドライン', 1),\n",
       " ('医用 テレメータ 編', 1)]"
      ]
     },
     "execution_count": 21,
     "metadata": {},
     "output_type": "execute_result"
    }
   ],
   "source": [
    "list(lr.compound_stat().items())[:10]"
   ]
  },
  {
   "cell_type": "code",
   "execution_count": null,
   "id": "99d9a4f1-c8a5-4161-bc0d-6b56a450c27d",
   "metadata": {},
   "outputs": [],
   "source": []
  }
 ],
 "metadata": {
  "kernelspec": {
   "display_name": "Python 3 (ipykernel)",
   "language": "python",
   "name": "python3"
  },
  "language_info": {
   "codemirror_mode": {
    "name": "ipython",
    "version": 3
   },
   "file_extension": ".py",
   "mimetype": "text/x-python",
   "name": "python",
   "nbconvert_exporter": "python",
   "pygments_lexer": "ipython3",
   "version": "3.9.7"
  }
 },
 "nbformat": 4,
 "nbformat_minor": 5
}

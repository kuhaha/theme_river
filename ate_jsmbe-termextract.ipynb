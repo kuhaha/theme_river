{
 "cells": [
  {
   "cell_type": "code",
   "execution_count": 1,
   "id": "6fa7c12e-1c53-46de-9a5d-15334b830d45",
   "metadata": {},
   "outputs": [],
   "source": [
    "\"\"\"ATE: Automatic Term Extraction\n",
    "\"\"\"\n",
    "import re\n",
    "import os\n",
    "import collections\n",
    "import pandas as pd\n",
    "from pprint import pprint\n",
    "\n",
    "from termextract import LRValue\n",
    "from termextract.preprocessing import MeCabTokenizer\n"
   ]
  },
  {
   "cell_type": "code",
   "execution_count": 2,
   "id": "e0d5f3c7-a584-4284-9388-4c408a554f49",
   "metadata": {},
   "outputs": [],
   "source": [
    "file_path = \"datasets/生体医工学会論文5755件.csv\"\n",
    "df = pd.read_csv(file_path,encoding='utf-8')"
   ]
  },
  {
   "cell_type": "code",
   "execution_count": 3,
   "id": "99193f62-6eca-42d9-adcd-37a6863fd3e8",
   "metadata": {},
   "outputs": [
    {
     "data": {
      "text/html": [
       "<div>\n",
       "<style scoped>\n",
       "    .dataframe tbody tr th:only-of-type {\n",
       "        vertical-align: middle;\n",
       "    }\n",
       "\n",
       "    .dataframe tbody tr th {\n",
       "        vertical-align: top;\n",
       "    }\n",
       "\n",
       "    .dataframe thead th {\n",
       "        text-align: right;\n",
       "    }\n",
       "</style>\n",
       "<table border=\"1\" class=\"dataframe\">\n",
       "  <thead>\n",
       "    <tr style=\"text-align: right;\">\n",
       "      <th></th>\n",
       "      <th>Title</th>\n",
       "      <th>Vol</th>\n",
       "      <th>No</th>\n",
       "    </tr>\n",
       "  </thead>\n",
       "  <tbody>\n",
       "    <tr>\n",
       "      <th>223</th>\n",
       "      <td>適応ファジィ推論ニューラルネットワークを用いた視覚障害者用学習型位置情報提供システム</td>\n",
       "      <td>46</td>\n",
       "      <td>1</td>\n",
       "    </tr>\n",
       "    <tr>\n",
       "      <th>224</th>\n",
       "      <td>記述言語を用いた細胞生理学実験シミュレーション手法</td>\n",
       "      <td>46</td>\n",
       "      <td>1</td>\n",
       "    </tr>\n",
       "    <tr>\n",
       "      <th>225</th>\n",
       "      <td>混合脂質膜の透過光スペクトル特性とその自己相関関数に基づく味識別</td>\n",
       "      <td>46</td>\n",
       "      <td>1</td>\n",
       "    </tr>\n",
       "    <tr>\n",
       "      <th>226</th>\n",
       "      <td>筋芽細胞の分化と細胞膜電位の変化</td>\n",
       "      <td>46</td>\n",
       "      <td>1</td>\n",
       "    </tr>\n",
       "    <tr>\n",
       "      <th>227</th>\n",
       "      <td>生体歩行計測に基づく足首駆動歩行シミュレーション</td>\n",
       "      <td>46</td>\n",
       "      <td>1</td>\n",
       "    </tr>\n",
       "  </tbody>\n",
       "</table>\n",
       "</div>"
      ],
      "text/plain": [
       "                                          Title Vol No\n",
       "223  適応ファジィ推論ニューラルネットワークを用いた視覚障害者用学習型位置情報提供システム  46  1\n",
       "224                   記述言語を用いた細胞生理学実験シミュレーション手法  46  1\n",
       "225            混合脂質膜の透過光スペクトル特性とその自己相関関数に基づく味識別  46  1\n",
       "226                            筋芽細胞の分化と細胞膜電位の変化  46  1\n",
       "227                    生体歩行計測に基づく足首駆動歩行シミュレーション  46  1"
      ]
     },
     "execution_count": 3,
     "metadata": {},
     "output_type": "execute_result"
    }
   ],
   "source": [
    "df[df['Published_Year']==2008][['Title','Vol', 'No']].head()"
   ]
  },
  {
   "cell_type": "code",
   "execution_count": 4,
   "id": "421cf642-9371-4671-9bc9-daec897655e0",
   "metadata": {},
   "outputs": [
    {
     "data": {
      "text/plain": [
       "array([2005, 2006, 2007, 2008, 2009, 2010, 2011, 2012, 2013, 2014, 2015,\n",
       "       2016, 2017, 2018, 2019, 2020, 2021, 2022, 2023])"
      ]
     },
     "execution_count": 4,
     "metadata": {},
     "output_type": "execute_result"
    }
   ],
   "source": [
    "years = df[\"Published_Year\"].unique()\n",
    "years"
   ]
  },
  {
   "cell_type": "code",
   "execution_count": 5,
   "id": "d3d46828-25cb-409c-b21e-8a6110f0335e",
   "metadata": {},
   "outputs": [],
   "source": [
    "docs = {}\n",
    "for y in years:\n",
    "    docs[y] = df[(df['Published_Year']==y)]['Title'].values.tolist()"
   ]
  },
  {
   "cell_type": "code",
   "execution_count": 6,
   "id": "df1eede8-e43f-4f6d-b536-bb20fbf017c6",
   "metadata": {},
   "outputs": [
    {
     "name": "stdout",
     "output_type": "stream",
     "text": [
      "生体医工学ウェブ辞典（第二分冊）\n",
      "医療機関等への建築ガイドライン浸透のための課題と今後の展望\n",
      "メーカーから見た医用テレメータ設置・運用に関する現状と確認事項\n",
      "医用テレメータの概要と医療現場での現状と希望\n",
      "医療機関における電波利用機器に配慮した建築ガイドライン・同解説－医用テレメータ編－のポイント\n",
      "生体医工学×医療者教育―効率的な知識・技術発展のためにー\n",
      "生体医工学×知のデザイン －臨床研究における学際の必要性－\n",
      "生体医工学×医工連携～自身の開発経験談～\n",
      "生体医工学×医療機器管理のエビデンス創設を目指して\n",
      "スマートコントラクトを用いたトラストデータ流通システム\n",
      "聴診音解析システムを活用した医療DXへの挑戦\n",
      "看護理工学的思考によるリアルワールドデータの活用\n",
      "皮膚感覚メカニズム解明のためのセンシング・ディスプレイ技術\n",
      "神経オルガノイドを用いた特殊培養デバイスによる疼痛評価システム\n",
      "次世代網膜刺激型人工視覚デバイスの開発\n"
     ]
    }
   ],
   "source": [
    "print(\"\\n\".join(docs[2023][:15]))"
   ]
  },
  {
   "cell_type": "code",
   "execution_count": 12,
   "id": "cf754a8b-b7ff-4fab-8ea1-f9e0ed212c8c",
   "metadata": {},
   "outputs": [
    {
     "data": {
      "text/plain": [
       "[('性', 98.67623827447011),\n",
       " ('計測', 78.689262291624),\n",
       " ('画像 計測', 70.22196244621308),\n",
       " ('機能 計測', 67.30984959259138),\n",
       " ('細胞', 64.89992295835181),\n",
       " ('循環 型', 64.06739834234645),\n",
       " ('画像', 62.66578013557319),\n",
       " ('細胞 機能', 61.12839229772927),\n",
       " ('計測 解析', 60.807549803733956),\n",
       " ('細胞 運動', 60.80310614619487),\n",
       " ('細胞 モデル', 59.9759855865452),\n",
       " ('計測 光', 59.83431497435334),\n",
       " ('光 計測', 59.83431497435334),\n",
       " ('生体 画像 計測', 59.265223258486486),\n",
       " ('超音波 画像 計測', 58.778651212904556),\n",
       " ('脳 機能 計測', 57.8393254104299),\n",
       " ('生体 計測', 57.634782933863946),\n",
       " ('生体 機能 計測', 57.615194192879436),\n",
       " ('機能', 57.57603668193913),\n",
       " ('運動 機能', 57.26965389173499),\n",
       " ('運動', 56.96490147450446),\n",
       " ('呼吸 性', 55.57926656262697),\n",
       " ('モデル', 55.42562584220407),\n",
       " ('画像 刺激', 55.233467904674896),\n",
       " ('刺激 画像', 55.233467904674896),\n",
       " ('細胞 解析', 55.22323674120181),\n",
       " ('細胞 組織', 54.92063227471158),\n",
       " ('光 脳 機能 計測', 54.47079420302772),\n",
       " ('自動 計測', 52.713803130502775),\n",
       " ('細胞 化', 52.53899152565192),\n",
       " ('呼吸 機能 計測', 52.15029378675262),\n",
       " ('血管 細胞', 52.09781905153768),\n",
       " ('生体 画像', 51.43303476118926),\n",
       " ('モデル 解析', 51.03346660300575),\n",
       " ('超音波 画像', 50.8009328564849),\n",
       " ('細胞 センサ', 50.75072259412425),\n",
       " ('生体 内', 50.49409959773628),\n",
       " ('血管 内', 50.25868945932843),\n",
       " ('画像 センサ', 49.86954029554185),\n",
       " ('呼吸 計測', 49.632283386595766),\n",
       " ('脳 機能', 49.58805699338861),\n",
       " ('機能 化', 49.485791947212604),\n",
       " ('生体 機能', 49.300100898175174),\n",
       " ('細胞 動態 計測', 49.141926534801804),\n",
       " ('診断 用 超音波', 48.71285812513658),\n",
       " ('脳 機能 解析', 48.70623643525298),\n",
       " ('刺激', 48.68264577855234),\n",
       " ('機能 的 電気 刺激', 48.647320086426674),\n",
       " ('モデル 化', 48.552874253737706),\n",
       " ('生体 モデル', 48.37068389567339)]"
      ]
     },
     "execution_count": 12,
     "metadata": {},
     "output_type": "execute_result"
    }
   ],
   "source": [
    "year = 2019\n",
    "\n",
    "tok = MeCabTokenizer() \n",
    "ignores = ['研究','開発','検討','試作','提案','紹介','展望','事例','課題',\"および\", \"評価\"]\n",
    "ignores1 = ['型']\n",
    "ignores2 = ['中','的','時','システム','用']\n",
    "\n",
    "compound_nouns = []\n",
    "for y in years:\n",
    "    for sentence in docs[y]:\n",
    "        if sentence.isascii():\n",
    "            continue \n",
    "    \n",
    "        tokens = tok.iter_token(sentence)\n",
    "        nouns = tok.extract_nouns(tokens)\n",
    "        # print(nouns)\n",
    "        nouns = tok.filter_nouns(nouns, n=1, stopwords=ignores, stopwords_begin=ignores1, stopwords_end=ignores2)\n",
    "        # print(nouns)\n",
    "        if len(nouns) > 0 :\n",
    "            compound_nouns.extend(nouns)\n",
    "\n",
    "lr = LRValue()\n",
    "# lr_values = lr.fit_transform(compound_nouns)\n",
    "lr_values = lr.fit(compound_nouns).transform(compound_nouns, mode=3)\n",
    "lr_values = [(k,v) for k,v in lr_values.items() if v>0]\n",
    "data_collection = sorted(lr_values, key=lambda x:x[1], reverse=True)\n",
    "list(data_collection)[:50]"
   ]
  },
  {
   "cell_type": "code",
   "execution_count": 18,
   "id": "99d9a4f1-c8a5-4161-bc0d-6b56a450c27d",
   "metadata": {},
   "outputs": [
    {
     "name": "stdout",
     "output_type": "stream",
     "text": [
      "補助人工心臓 5.916079783099616 2\n",
      "コーティング 4.47213595499958 2\n",
      "ダイナミクス 4.242640687119285 5\n",
      "視覚誘発電位 4.0 6\n",
      "ガイドライン 4.0 1\n",
      "システム開発 3.7416573867739413 1\n",
      "データベース 3.4641016151377544 1\n",
      "ビッグデータ 3.4641016151377544 3\n",
      "トモグラフィ 3.4641016151377544 2\n",
      "コンピュータ 3.4641016151377544 1\n",
      "脈波伝播速度 3.0 1\n",
      "コントロール 2.8284271247461903 1\n",
      "ソフトウェア 2.6457513110645907 1\n",
      "加速度センサ 2.449489742783178 9\n",
      "スケーリング 2.449489742783178 1\n",
      "独立成分分析 2.449489742783178 3\n",
      "間葉系幹細胞 2.449489742783178 5\n",
      "リモデリング 2.449489742783178 1\n",
      "バリアフリー 2.449489742783178 1\n",
      "臨床工学技士 2.449489742783178 6\n"
     ]
    }
   ],
   "source": [
    "terms = lr_values\n",
    "freq = lr.compound_noun\n",
    "terms.sort(key=lambda z: (len(z[0].split()), len(z[0]),-z[1]), reverse=False)\n",
    "n, m = 2100, 20\n",
    "for i, v in terms[n:n+m]:\n",
    "    print(i, v, freq[i])"
   ]
  },
  {
   "cell_type": "code",
   "execution_count": null,
   "id": "1d002d73-60ca-4545-827d-4f12e138113c",
   "metadata": {},
   "outputs": [],
   "source": []
  }
 ],
 "metadata": {
  "kernelspec": {
   "display_name": "Python 3 (ipykernel)",
   "language": "python",
   "name": "python3"
  },
  "language_info": {
   "codemirror_mode": {
    "name": "ipython",
    "version": 3
   },
   "file_extension": ".py",
   "mimetype": "text/x-python",
   "name": "python",
   "nbconvert_exporter": "python",
   "pygments_lexer": "ipython3",
   "version": "3.9.7"
  }
 },
 "nbformat": 4,
 "nbformat_minor": 5
}

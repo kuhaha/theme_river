{
 "cells": [
  {
   "cell_type": "code",
   "execution_count": 1,
   "id": "40ba9bc0-e186-4a5e-ac51-7f34610f5a26",
   "metadata": {},
   "outputs": [],
   "source": [
    "import word_wakati as wkt"
   ]
  },
  {
   "cell_type": "code",
   "execution_count": 2,
   "id": "cfe0fce2-e59f-4fa2-a873-504c4d93f0f9",
   "metadata": {},
   "outputs": [
    {
     "name": "stdout",
     "output_type": "stream",
     "text": [
      "Janome\n",
      "['拡張', '現実', '感', 'ため', '物体', '奥行き', '考慮', 'する', '陰', '面', '消去']\n",
      "MeCab\n",
      "['拡張現実', '感', 'ため', '物体', '奥行き', '考慮', 'した陰', '面', '消去']\n"
     ]
    }
   ],
   "source": [
    "pos = ['名詞','動詞','形容詞']\n",
    "mecab = wkt.create_parser(worker='mecab', parts_of_speech=pos)\n",
    "janome = wkt.create_parser(worker='janome', parts_of_speech=pos)\n",
    "text = '拡張現実感のための実物体の奥行きを考慮した陰面消去'\n",
    "rs_j = wkt.word_seq(text,parser=janome)\n",
    "rs_m = wkt.word_seq(text,parser=mecab)\n",
    "print('Janome')\n",
    "print(rs_j)\n",
    "print('MeCab')\n",
    "print(rs_m)"
   ]
  },
  {
   "cell_type": "code",
   "execution_count": 3,
   "id": "c49b6b05-76d2-4ddc-af9b-5837de292515",
   "metadata": {},
   "outputs": [
    {
     "name": "stdout",
     "output_type": "stream",
     "text": [
      "Janome\n",
      "['研究', '室', '配属', '学生', '研究', '室', '理解', '深める', '情報', '共有', 'システム']\n",
      "MeCab\n",
      "['研究室', '配属', '学生', '研究室', '理解', '深める', '情報共有', 'システム']\n"
     ]
    }
   ],
   "source": [
    "text = '研究室配属における学生の研究室に対する理解を深める情報共有システム'\n",
    "rs_j = wkt.word_seq(text,parser=janome)\n",
    "rs_m = wkt.word_seq(text,parser=mecab)\n",
    "print('Janome')\n",
    "print(rs_j)\n",
    "print('MeCab')\n",
    "print(rs_m)"
   ]
  },
  {
   "cell_type": "code",
   "execution_count": 4,
   "id": "9502030b-d7e1-49a4-b094-b5db15816681",
   "metadata": {},
   "outputs": [
    {
     "name": "stdout",
     "output_type": "stream",
     "text": [
      "Janome\n",
      "['人', '感', 'センサー', '利用', 'する', '乗降', '客数', '計測', 'Android', 'アプリケーション', '開発']\n",
      "MeCab\n",
      "['人感センサー', '利用', 'する', '乗降客数', '計測', 'Android', 'アプリケーション', '開発']\n"
     ]
    }
   ],
   "source": [
    "text ='人感センサーを利用した乗降客数計測Androidアプリケーションの開発'\n",
    "rs_j = wkt.word_seq(text,parser=janome)\n",
    "rs_m = wkt.word_seq(text,parser=mecab)\n",
    "print('Janome')\n",
    "print(rs_j)\n",
    "print('MeCab')\n",
    "print(rs_m)"
   ]
  },
  {
   "cell_type": "code",
   "execution_count": 7,
   "id": "75c666c5-4abd-457c-90f8-28ef5540e456",
   "metadata": {},
   "outputs": [
    {
     "name": "stdout",
     "output_type": "stream",
     "text": [
      " \t BOS/EOS,*,*,*,*,*,*,*,*\n",
      "研究室 \t 名詞,固有名詞,一般,*,*,*,研究室,ケンキュウシツ,ケンキューシツ\n",
      "配属 \t 名詞,サ変接続,*,*,*,*,配属,ハイゾク,ハイゾク\n",
      "における \t 助詞,格助詞,連語,*,*,*,における,ニオケル,ニオケル\n",
      "学生 \t 名詞,一般,*,*,*,*,学生,ガクセイ,ガクセイ\n",
      "の \t 助詞,連体化,*,*,*,*,の,ノ,ノ\n",
      "研究室 \t 名詞,固有名詞,一般,*,*,*,研究室,ケンキュウシツ,ケンキューシツ\n",
      "に対する \t 助詞,格助詞,連語,*,*,*,に対する,ニタイスル,ニタイスル\n",
      "理解 \t 名詞,サ変接続,*,*,*,*,理解,リカイ,リカイ\n",
      "を \t 助詞,格助詞,一般,*,*,*,を,ヲ,ヲ\n",
      "深める \t 動詞,自立,*,*,一段,基本形,深める,フカメル,フカメル\n",
      "情報共有 \t 名詞,サ変接続,*,*,*,*,情報共有,ジョウホウキョウユウ,ジョーホーキョウユー\n",
      "システム \t 名詞,一般,*,*,*,*,システム,システム,システム\n",
      " \t BOS/EOS,*,*,*,*,*,*,*,*\n"
     ]
    }
   ],
   "source": [
    "import MeCab\n",
    "# tagger = MeCab.Tagger()\n",
    "tagger = MeCab.Tagger('-d /usr/lib/x86_64-linux-gnu/mecab/dic/mecab-ipadic-neologd')\n",
    "tagger.parse('')\n",
    "text = '研究室配属における学生の研究室に対する理解を深める情報共有システム'\n",
    "node = tagger.parseToNode(text)\n",
    "rs = []\n",
    "while node:\n",
    "    print(node.surface,\"\\t\", node.feature)\n",
    "    node = node.next"
   ]
  },
  {
   "cell_type": "code",
   "execution_count": 6,
   "id": "7298003e-3744-4065-ba6b-7e89e6ddaf52",
   "metadata": {},
   "outputs": [
    {
     "name": "stdout",
     "output_type": "stream",
     "text": [
      "研究 \n",
      "\t 名詞,サ変接続,*,*\n",
      "室 \n",
      "\t 名詞,接尾,一般,*\n",
      "配属 \n",
      "\t 名詞,サ変接続,*,*\n",
      "における \n",
      "\t 助詞,格助詞,連語,*\n",
      "学生 \n",
      "\t 名詞,一般,*,*\n",
      "の \n",
      "\t 助詞,連体化,*,*\n",
      "研究 \n",
      "\t 名詞,サ変接続,*,*\n",
      "室 \n",
      "\t 名詞,接尾,一般,*\n",
      "に対する \n",
      "\t 助詞,格助詞,連語,*\n",
      "理解 \n",
      "\t 名詞,サ変接続,*,*\n",
      "を \n",
      "\t 助詞,格助詞,一般,*\n",
      "深める \n",
      "\t 動詞,自立,*,*\n",
      "情報 \n",
      "\t 名詞,一般,*,*\n",
      "共有 \n",
      "\t 名詞,サ変接続,*,*\n",
      "システム \n",
      "\t 名詞,一般,*,*\n"
     ]
    }
   ],
   "source": [
    "from janome.tokenizer import Tokenizer\n",
    "t = Tokenizer()\n",
    "for token in t.tokenize(text):\n",
    "    word = token.base_form\n",
    "    pos = token.part_of_speech\n",
    "    print(word, \"\\n\\t\", pos)"
   ]
  },
  {
   "cell_type": "code",
   "execution_count": null,
   "id": "78dd2f29-0462-4470-9c42-0f324ac36c84",
   "metadata": {},
   "outputs": [],
   "source": []
  }
 ],
 "metadata": {
  "kernelspec": {
   "display_name": "Python 3 (ipykernel)",
   "language": "python",
   "name": "python3"
  },
  "language_info": {
   "codemirror_mode": {
    "name": "ipython",
    "version": 3
   },
   "file_extension": ".py",
   "mimetype": "text/x-python",
   "name": "python",
   "nbconvert_exporter": "python",
   "pygments_lexer": "ipython3",
   "version": "3.9.7"
  }
 },
 "nbformat": 4,
 "nbformat_minor": 5
}
